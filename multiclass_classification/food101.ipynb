{
  "nbformat": 4,
  "nbformat_minor": 0,
  "metadata": {
    "colab": {
      "provenance": [],
      "gpuType": "T4",
      "authorship_tag": "ABX9TyN5gXuzYO0uqAyAVF8wKRxp",
      "include_colab_link": true
    },
    "kernelspec": {
      "name": "python3",
      "display_name": "Python 3"
    },
    "language_info": {
      "name": "python"
    },
    "accelerator": "GPU"
  },
  "cells": [
    {
      "cell_type": "markdown",
      "metadata": {
        "id": "view-in-github",
        "colab_type": "text"
      },
      "source": [
        "<a href=\"https://colab.research.google.com/github/SrijaaimeenakshiM/ml-classification-hub/blob/main/multiclass_classification/food101.ipynb\" target=\"_parent\"><img src=\"https://colab.research.google.com/assets/colab-badge.svg\" alt=\"Open In Colab\"/></a>"
      ]
    },
    {
      "cell_type": "code",
      "execution_count": null,
      "metadata": {
        "id": "h7pnkQX1D1fO"
      },
      "outputs": [],
      "source": [
        "!pip install tensorflow==2.15.0"
      ]
    },
    {
      "cell_type": "code",
      "source": [
        "import tensorflow as tf\n",
        "print(tf.__version__)"
      ],
      "metadata": {
        "colab": {
          "base_uri": "https://localhost:8080/"
        },
        "id": "ZEwrAfSxEP6f",
        "outputId": "ab6f89f0-6ab1-4c17-c916-b9fb9787e168"
      },
      "execution_count": null,
      "outputs": [
        {
          "output_type": "stream",
          "name": "stdout",
          "text": [
            "2.15.0\n"
          ]
        }
      ]
    },
    {
      "cell_type": "code",
      "source": [
        "import zipfilep\n",
        "!wget https://storage.googleapis.com/ztm_tf_course/food_vision/101_food_classes_10_percent.zip"
      ],
      "metadata": {
        "colab": {
          "base_uri": "https://localhost:8080/"
        },
        "id": "veJ6PQpLEZhT",
        "outputId": "074ffc3f-cc0c-4d04-a47f-2830ef5ca101"
      },
      "execution_count": null,
      "outputs": [
        {
          "output_type": "stream",
          "name": "stdout",
          "text": [
            "--2025-01-28 08:46:50--  https://storage.googleapis.com/ztm_tf_course/food_vision/101_food_classes_10_percent.zip\n",
            "Resolving storage.googleapis.com (storage.googleapis.com)... 142.250.153.207, 142.250.145.207, 74.125.128.207, ...\n",
            "Connecting to storage.googleapis.com (storage.googleapis.com)|142.250.153.207|:443... connected.\n",
            "HTTP request sent, awaiting response... 200 OK\n",
            "Length: 1625420029 (1.5G) [application/zip]\n",
            "Saving to: ‘101_food_classes_10_percent.zip’\n",
            "\n",
            "101_food_classes_10 100%[===================>]   1.51G  29.9MB/s    in 51s     \n",
            "\n",
            "2025-01-28 08:47:43 (30.1 MB/s) - ‘101_food_classes_10_percent.zip’ saved [1625420029/1625420029]\n",
            "\n"
          ]
        }
      ]
    },
    {
      "cell_type": "code",
      "source": [
        "zip_ref=zipfile.ZipFile(\"/content/101_food_classes_10_percent.zip\")\n",
        "zip_ref.extractall()\n",
        "zip_ref.close()"
      ],
      "metadata": {
        "id": "s-nYl6UiGBvY"
      },
      "execution_count": null,
      "outputs": []
    },
    {
      "cell_type": "code",
      "source": [
        "import os\n",
        "for dirpath,dirname,filename in os.walk(\"/content/101_food_classes_10_percent\"):\n",
        "  print(f\"There are {len(dirname)} directories and {len(filename)} images in {dirpath}\")\n"
      ],
      "metadata": {
        "colab": {
          "base_uri": "https://localhost:8080/"
        },
        "id": "EFSaTSBZGKJq",
        "outputId": "f37c166d-06fc-4d75-ec8b-dedb5d836d64"
      },
      "execution_count": null,
      "outputs": [
        {
          "output_type": "stream",
          "name": "stdout",
          "text": [
            "There are 2 directories and 0 images in /content/101_food_classes_10_percent\n",
            "There are 101 directories and 0 images in /content/101_food_classes_10_percent/train\n",
            "There are 0 directories and 75 images in /content/101_food_classes_10_percent/train/chocolate_cake\n",
            "There are 0 directories and 75 images in /content/101_food_classes_10_percent/train/omelette\n",
            "There are 0 directories and 75 images in /content/101_food_classes_10_percent/train/beef_tartare\n",
            "There are 0 directories and 75 images in /content/101_food_classes_10_percent/train/deviled_eggs\n",
            "There are 0 directories and 75 images in /content/101_food_classes_10_percent/train/croque_madame\n",
            "There are 0 directories and 75 images in /content/101_food_classes_10_percent/train/carrot_cake\n",
            "There are 0 directories and 75 images in /content/101_food_classes_10_percent/train/strawberry_shortcake\n",
            "There are 0 directories and 75 images in /content/101_food_classes_10_percent/train/sashimi\n",
            "There are 0 directories and 75 images in /content/101_food_classes_10_percent/train/chicken_curry\n",
            "There are 0 directories and 75 images in /content/101_food_classes_10_percent/train/pad_thai\n",
            "There are 0 directories and 75 images in /content/101_food_classes_10_percent/train/spaghetti_bolognese\n",
            "There are 0 directories and 75 images in /content/101_food_classes_10_percent/train/shrimp_and_grits\n",
            "There are 0 directories and 75 images in /content/101_food_classes_10_percent/train/churros\n",
            "There are 0 directories and 75 images in /content/101_food_classes_10_percent/train/escargots\n",
            "There are 0 directories and 75 images in /content/101_food_classes_10_percent/train/cannoli\n",
            "There are 0 directories and 75 images in /content/101_food_classes_10_percent/train/beef_carpaccio\n",
            "There are 0 directories and 75 images in /content/101_food_classes_10_percent/train/ramen\n",
            "There are 0 directories and 75 images in /content/101_food_classes_10_percent/train/eggs_benedict\n",
            "There are 0 directories and 75 images in /content/101_food_classes_10_percent/train/grilled_salmon\n",
            "There are 0 directories and 75 images in /content/101_food_classes_10_percent/train/fried_calamari\n",
            "There are 0 directories and 75 images in /content/101_food_classes_10_percent/train/ice_cream\n",
            "There are 0 directories and 75 images in /content/101_food_classes_10_percent/train/red_velvet_cake\n",
            "There are 0 directories and 75 images in /content/101_food_classes_10_percent/train/lobster_roll_sandwich\n",
            "There are 0 directories and 75 images in /content/101_food_classes_10_percent/train/onion_rings\n",
            "There are 0 directories and 75 images in /content/101_food_classes_10_percent/train/scallops\n",
            "There are 0 directories and 75 images in /content/101_food_classes_10_percent/train/huevos_rancheros\n",
            "There are 0 directories and 75 images in /content/101_food_classes_10_percent/train/tacos\n",
            "There are 0 directories and 75 images in /content/101_food_classes_10_percent/train/cheesecake\n",
            "There are 0 directories and 75 images in /content/101_food_classes_10_percent/train/steak\n",
            "There are 0 directories and 75 images in /content/101_food_classes_10_percent/train/club_sandwich\n",
            "There are 0 directories and 75 images in /content/101_food_classes_10_percent/train/garlic_bread\n",
            "There are 0 directories and 75 images in /content/101_food_classes_10_percent/train/french_toast\n",
            "There are 0 directories and 75 images in /content/101_food_classes_10_percent/train/macarons\n",
            "There are 0 directories and 75 images in /content/101_food_classes_10_percent/train/prime_rib\n",
            "There are 0 directories and 75 images in /content/101_food_classes_10_percent/train/hot_and_sour_soup\n",
            "There are 0 directories and 75 images in /content/101_food_classes_10_percent/train/hot_dog\n",
            "There are 0 directories and 75 images in /content/101_food_classes_10_percent/train/peking_duck\n",
            "There are 0 directories and 75 images in /content/101_food_classes_10_percent/train/poutine\n",
            "There are 0 directories and 75 images in /content/101_food_classes_10_percent/train/ravioli\n",
            "There are 0 directories and 75 images in /content/101_food_classes_10_percent/train/panna_cotta\n",
            "There are 0 directories and 75 images in /content/101_food_classes_10_percent/train/guacamole\n",
            "There are 0 directories and 75 images in /content/101_food_classes_10_percent/train/nachos\n",
            "There are 0 directories and 75 images in /content/101_food_classes_10_percent/train/spring_rolls\n",
            "There are 0 directories and 75 images in /content/101_food_classes_10_percent/train/edamame\n",
            "There are 0 directories and 75 images in /content/101_food_classes_10_percent/train/apple_pie\n",
            "There are 0 directories and 75 images in /content/101_food_classes_10_percent/train/waffles\n",
            "There are 0 directories and 75 images in /content/101_food_classes_10_percent/train/oysters\n",
            "There are 0 directories and 75 images in /content/101_food_classes_10_percent/train/bibimbap\n",
            "There are 0 directories and 75 images in /content/101_food_classes_10_percent/train/breakfast_burrito\n",
            "There are 0 directories and 75 images in /content/101_food_classes_10_percent/train/macaroni_and_cheese\n",
            "There are 0 directories and 75 images in /content/101_food_classes_10_percent/train/cheese_plate\n",
            "There are 0 directories and 75 images in /content/101_food_classes_10_percent/train/baklava\n",
            "There are 0 directories and 75 images in /content/101_food_classes_10_percent/train/pork_chop\n",
            "There are 0 directories and 75 images in /content/101_food_classes_10_percent/train/miso_soup\n",
            "There are 0 directories and 75 images in /content/101_food_classes_10_percent/train/caprese_salad\n",
            "There are 0 directories and 75 images in /content/101_food_classes_10_percent/train/pizza\n",
            "There are 0 directories and 75 images in /content/101_food_classes_10_percent/train/cup_cakes\n",
            "There are 0 directories and 75 images in /content/101_food_classes_10_percent/train/bread_pudding\n",
            "There are 0 directories and 75 images in /content/101_food_classes_10_percent/train/beignets\n",
            "There are 0 directories and 75 images in /content/101_food_classes_10_percent/train/chicken_wings\n",
            "There are 0 directories and 75 images in /content/101_food_classes_10_percent/train/chicken_quesadilla\n",
            "There are 0 directories and 75 images in /content/101_food_classes_10_percent/train/creme_brulee\n",
            "There are 0 directories and 75 images in /content/101_food_classes_10_percent/train/caesar_salad\n",
            "There are 0 directories and 75 images in /content/101_food_classes_10_percent/train/takoyaki\n",
            "There are 0 directories and 75 images in /content/101_food_classes_10_percent/train/grilled_cheese_sandwich\n",
            "There are 0 directories and 75 images in /content/101_food_classes_10_percent/train/chocolate_mousse\n",
            "There are 0 directories and 75 images in /content/101_food_classes_10_percent/train/crab_cakes\n",
            "There are 0 directories and 75 images in /content/101_food_classes_10_percent/train/seaweed_salad\n",
            "There are 0 directories and 75 images in /content/101_food_classes_10_percent/train/foie_gras\n",
            "There are 0 directories and 75 images in /content/101_food_classes_10_percent/train/greek_salad\n",
            "There are 0 directories and 75 images in /content/101_food_classes_10_percent/train/french_fries\n",
            "There are 0 directories and 75 images in /content/101_food_classes_10_percent/train/pulled_pork_sandwich\n",
            "There are 0 directories and 75 images in /content/101_food_classes_10_percent/train/tiramisu\n",
            "There are 0 directories and 75 images in /content/101_food_classes_10_percent/train/fish_and_chips\n",
            "There are 0 directories and 75 images in /content/101_food_classes_10_percent/train/lasagna\n",
            "There are 0 directories and 75 images in /content/101_food_classes_10_percent/train/risotto\n",
            "There are 0 directories and 75 images in /content/101_food_classes_10_percent/train/frozen_yogurt\n",
            "There are 0 directories and 75 images in /content/101_food_classes_10_percent/train/tuna_tartare\n",
            "There are 0 directories and 75 images in /content/101_food_classes_10_percent/train/pancakes\n",
            "There are 0 directories and 75 images in /content/101_food_classes_10_percent/train/clam_chowder\n",
            "There are 0 directories and 75 images in /content/101_food_classes_10_percent/train/paella\n",
            "There are 0 directories and 75 images in /content/101_food_classes_10_percent/train/fried_rice\n",
            "There are 0 directories and 75 images in /content/101_food_classes_10_percent/train/dumplings\n",
            "There are 0 directories and 75 images in /content/101_food_classes_10_percent/train/bruschetta\n",
            "There are 0 directories and 75 images in /content/101_food_classes_10_percent/train/baby_back_ribs\n",
            "There are 0 directories and 75 images in /content/101_food_classes_10_percent/train/sushi\n",
            "There are 0 directories and 75 images in /content/101_food_classes_10_percent/train/gnocchi\n",
            "There are 0 directories and 75 images in /content/101_food_classes_10_percent/train/ceviche\n",
            "There are 0 directories and 75 images in /content/101_food_classes_10_percent/train/mussels\n",
            "There are 0 directories and 75 images in /content/101_food_classes_10_percent/train/spaghetti_carbonara\n",
            "There are 0 directories and 75 images in /content/101_food_classes_10_percent/train/gyoza\n",
            "There are 0 directories and 75 images in /content/101_food_classes_10_percent/train/hamburger\n",
            "There are 0 directories and 75 images in /content/101_food_classes_10_percent/train/pho\n",
            "There are 0 directories and 75 images in /content/101_food_classes_10_percent/train/donuts\n",
            "There are 0 directories and 75 images in /content/101_food_classes_10_percent/train/samosa\n",
            "There are 0 directories and 75 images in /content/101_food_classes_10_percent/train/beet_salad\n",
            "There are 0 directories and 75 images in /content/101_food_classes_10_percent/train/filet_mignon\n",
            "There are 0 directories and 75 images in /content/101_food_classes_10_percent/train/french_onion_soup\n",
            "There are 0 directories and 75 images in /content/101_food_classes_10_percent/train/hummus\n",
            "There are 0 directories and 75 images in /content/101_food_classes_10_percent/train/falafel\n",
            "There are 0 directories and 75 images in /content/101_food_classes_10_percent/train/lobster_bisque\n",
            "There are 101 directories and 0 images in /content/101_food_classes_10_percent/test\n",
            "There are 0 directories and 250 images in /content/101_food_classes_10_percent/test/chocolate_cake\n",
            "There are 0 directories and 250 images in /content/101_food_classes_10_percent/test/omelette\n",
            "There are 0 directories and 250 images in /content/101_food_classes_10_percent/test/beef_tartare\n",
            "There are 0 directories and 250 images in /content/101_food_classes_10_percent/test/deviled_eggs\n",
            "There are 0 directories and 250 images in /content/101_food_classes_10_percent/test/croque_madame\n",
            "There are 0 directories and 250 images in /content/101_food_classes_10_percent/test/carrot_cake\n",
            "There are 0 directories and 250 images in /content/101_food_classes_10_percent/test/strawberry_shortcake\n",
            "There are 0 directories and 250 images in /content/101_food_classes_10_percent/test/sashimi\n",
            "There are 0 directories and 250 images in /content/101_food_classes_10_percent/test/chicken_curry\n",
            "There are 0 directories and 250 images in /content/101_food_classes_10_percent/test/pad_thai\n",
            "There are 0 directories and 250 images in /content/101_food_classes_10_percent/test/spaghetti_bolognese\n",
            "There are 0 directories and 250 images in /content/101_food_classes_10_percent/test/shrimp_and_grits\n",
            "There are 0 directories and 250 images in /content/101_food_classes_10_percent/test/churros\n",
            "There are 0 directories and 250 images in /content/101_food_classes_10_percent/test/escargots\n",
            "There are 0 directories and 250 images in /content/101_food_classes_10_percent/test/cannoli\n",
            "There are 0 directories and 250 images in /content/101_food_classes_10_percent/test/beef_carpaccio\n",
            "There are 0 directories and 250 images in /content/101_food_classes_10_percent/test/ramen\n",
            "There are 0 directories and 250 images in /content/101_food_classes_10_percent/test/eggs_benedict\n",
            "There are 0 directories and 250 images in /content/101_food_classes_10_percent/test/grilled_salmon\n",
            "There are 0 directories and 250 images in /content/101_food_classes_10_percent/test/fried_calamari\n",
            "There are 0 directories and 250 images in /content/101_food_classes_10_percent/test/ice_cream\n",
            "There are 0 directories and 250 images in /content/101_food_classes_10_percent/test/red_velvet_cake\n",
            "There are 0 directories and 250 images in /content/101_food_classes_10_percent/test/lobster_roll_sandwich\n",
            "There are 0 directories and 250 images in /content/101_food_classes_10_percent/test/onion_rings\n",
            "There are 0 directories and 250 images in /content/101_food_classes_10_percent/test/scallops\n",
            "There are 0 directories and 250 images in /content/101_food_classes_10_percent/test/huevos_rancheros\n",
            "There are 0 directories and 250 images in /content/101_food_classes_10_percent/test/tacos\n",
            "There are 0 directories and 250 images in /content/101_food_classes_10_percent/test/cheesecake\n",
            "There are 0 directories and 250 images in /content/101_food_classes_10_percent/test/steak\n",
            "There are 0 directories and 250 images in /content/101_food_classes_10_percent/test/club_sandwich\n",
            "There are 0 directories and 250 images in /content/101_food_classes_10_percent/test/garlic_bread\n",
            "There are 0 directories and 250 images in /content/101_food_classes_10_percent/test/french_toast\n",
            "There are 0 directories and 250 images in /content/101_food_classes_10_percent/test/macarons\n",
            "There are 0 directories and 250 images in /content/101_food_classes_10_percent/test/prime_rib\n",
            "There are 0 directories and 250 images in /content/101_food_classes_10_percent/test/hot_and_sour_soup\n",
            "There are 0 directories and 250 images in /content/101_food_classes_10_percent/test/hot_dog\n",
            "There are 0 directories and 250 images in /content/101_food_classes_10_percent/test/peking_duck\n",
            "There are 0 directories and 250 images in /content/101_food_classes_10_percent/test/poutine\n",
            "There are 0 directories and 250 images in /content/101_food_classes_10_percent/test/ravioli\n",
            "There are 0 directories and 250 images in /content/101_food_classes_10_percent/test/panna_cotta\n",
            "There are 0 directories and 250 images in /content/101_food_classes_10_percent/test/guacamole\n",
            "There are 0 directories and 250 images in /content/101_food_classes_10_percent/test/nachos\n",
            "There are 0 directories and 250 images in /content/101_food_classes_10_percent/test/spring_rolls\n",
            "There are 0 directories and 250 images in /content/101_food_classes_10_percent/test/edamame\n",
            "There are 0 directories and 250 images in /content/101_food_classes_10_percent/test/apple_pie\n",
            "There are 0 directories and 250 images in /content/101_food_classes_10_percent/test/waffles\n",
            "There are 0 directories and 250 images in /content/101_food_classes_10_percent/test/oysters\n",
            "There are 0 directories and 250 images in /content/101_food_classes_10_percent/test/bibimbap\n",
            "There are 0 directories and 250 images in /content/101_food_classes_10_percent/test/breakfast_burrito\n",
            "There are 0 directories and 250 images in /content/101_food_classes_10_percent/test/macaroni_and_cheese\n",
            "There are 0 directories and 250 images in /content/101_food_classes_10_percent/test/cheese_plate\n",
            "There are 0 directories and 250 images in /content/101_food_classes_10_percent/test/baklava\n",
            "There are 0 directories and 250 images in /content/101_food_classes_10_percent/test/pork_chop\n",
            "There are 0 directories and 250 images in /content/101_food_classes_10_percent/test/miso_soup\n",
            "There are 0 directories and 250 images in /content/101_food_classes_10_percent/test/caprese_salad\n",
            "There are 0 directories and 250 images in /content/101_food_classes_10_percent/test/pizza\n",
            "There are 0 directories and 250 images in /content/101_food_classes_10_percent/test/cup_cakes\n",
            "There are 0 directories and 250 images in /content/101_food_classes_10_percent/test/bread_pudding\n",
            "There are 0 directories and 250 images in /content/101_food_classes_10_percent/test/beignets\n",
            "There are 0 directories and 250 images in /content/101_food_classes_10_percent/test/chicken_wings\n",
            "There are 0 directories and 250 images in /content/101_food_classes_10_percent/test/chicken_quesadilla\n",
            "There are 0 directories and 250 images in /content/101_food_classes_10_percent/test/creme_brulee\n",
            "There are 0 directories and 250 images in /content/101_food_classes_10_percent/test/caesar_salad\n",
            "There are 0 directories and 250 images in /content/101_food_classes_10_percent/test/takoyaki\n",
            "There are 0 directories and 250 images in /content/101_food_classes_10_percent/test/grilled_cheese_sandwich\n",
            "There are 0 directories and 250 images in /content/101_food_classes_10_percent/test/chocolate_mousse\n",
            "There are 0 directories and 250 images in /content/101_food_classes_10_percent/test/crab_cakes\n",
            "There are 0 directories and 250 images in /content/101_food_classes_10_percent/test/seaweed_salad\n",
            "There are 0 directories and 250 images in /content/101_food_classes_10_percent/test/foie_gras\n",
            "There are 0 directories and 250 images in /content/101_food_classes_10_percent/test/greek_salad\n",
            "There are 0 directories and 250 images in /content/101_food_classes_10_percent/test/french_fries\n",
            "There are 0 directories and 250 images in /content/101_food_classes_10_percent/test/pulled_pork_sandwich\n",
            "There are 0 directories and 250 images in /content/101_food_classes_10_percent/test/tiramisu\n",
            "There are 0 directories and 250 images in /content/101_food_classes_10_percent/test/fish_and_chips\n",
            "There are 0 directories and 250 images in /content/101_food_classes_10_percent/test/lasagna\n",
            "There are 0 directories and 250 images in /content/101_food_classes_10_percent/test/risotto\n",
            "There are 0 directories and 250 images in /content/101_food_classes_10_percent/test/frozen_yogurt\n",
            "There are 0 directories and 250 images in /content/101_food_classes_10_percent/test/tuna_tartare\n",
            "There are 0 directories and 250 images in /content/101_food_classes_10_percent/test/pancakes\n",
            "There are 0 directories and 250 images in /content/101_food_classes_10_percent/test/clam_chowder\n",
            "There are 0 directories and 250 images in /content/101_food_classes_10_percent/test/paella\n",
            "There are 0 directories and 250 images in /content/101_food_classes_10_percent/test/fried_rice\n",
            "There are 0 directories and 250 images in /content/101_food_classes_10_percent/test/dumplings\n",
            "There are 0 directories and 250 images in /content/101_food_classes_10_percent/test/bruschetta\n",
            "There are 0 directories and 250 images in /content/101_food_classes_10_percent/test/baby_back_ribs\n",
            "There are 0 directories and 250 images in /content/101_food_classes_10_percent/test/sushi\n",
            "There are 0 directories and 250 images in /content/101_food_classes_10_percent/test/gnocchi\n",
            "There are 0 directories and 250 images in /content/101_food_classes_10_percent/test/ceviche\n",
            "There are 0 directories and 250 images in /content/101_food_classes_10_percent/test/mussels\n",
            "There are 0 directories and 250 images in /content/101_food_classes_10_percent/test/spaghetti_carbonara\n",
            "There are 0 directories and 250 images in /content/101_food_classes_10_percent/test/gyoza\n",
            "There are 0 directories and 250 images in /content/101_food_classes_10_percent/test/hamburger\n",
            "There are 0 directories and 250 images in /content/101_food_classes_10_percent/test/pho\n",
            "There are 0 directories and 250 images in /content/101_food_classes_10_percent/test/donuts\n",
            "There are 0 directories and 250 images in /content/101_food_classes_10_percent/test/samosa\n",
            "There are 0 directories and 250 images in /content/101_food_classes_10_percent/test/beet_salad\n",
            "There are 0 directories and 250 images in /content/101_food_classes_10_percent/test/filet_mignon\n",
            "There are 0 directories and 250 images in /content/101_food_classes_10_percent/test/french_onion_soup\n",
            "There are 0 directories and 250 images in /content/101_food_classes_10_percent/test/hummus\n",
            "There are 0 directories and 250 images in /content/101_food_classes_10_percent/test/falafel\n",
            "There are 0 directories and 250 images in /content/101_food_classes_10_percent/test/lobster_bisque\n"
          ]
        }
      ]
    },
    {
      "cell_type": "code",
      "source": [
        "train_data=tf.keras.preprocessing.image_dataset_from_directory(directory=\"/content/101_food_classes_10_percent/train\",\n",
        "                                                               batch_size=32,\n",
        "                                                               image_size=(224,224),\n",
        "                                                               label_mode=\"categorical\")\n",
        "\n",
        "\n",
        "test_data=tf.keras.preprocessing.image_dataset_from_directory(directory=\"/content/101_food_classes_10_percent/test\",\n",
        "                                                               batch_size=32,\n",
        "                                                               image_size=(224,224),\n",
        "                                                               label_mode=\"categorical\",\n",
        "                                                              shuffle=False)"
      ],
      "metadata": {
        "colab": {
          "base_uri": "https://localhost:8080/"
        },
        "id": "SWAQ82k-GZo3",
        "outputId": "d4c236cb-fa10-473c-cccf-9fcf49973b20"
      },
      "execution_count": null,
      "outputs": [
        {
          "output_type": "stream",
          "name": "stdout",
          "text": [
            "Found 7575 files belonging to 101 classes.\n",
            "Found 25250 files belonging to 101 classes.\n"
          ]
        }
      ]
    },
    {
      "cell_type": "code",
      "source": [
        "train_data"
      ],
      "metadata": {
        "colab": {
          "base_uri": "https://localhost:8080/"
        },
        "id": "yJIIDemhN6hC",
        "outputId": "67ff120b-c4f7-4c29-b51b-b9e11880334f"
      },
      "execution_count": null,
      "outputs": [
        {
          "output_type": "execute_result",
          "data": {
            "text/plain": [
              "<_PrefetchDataset element_spec=(TensorSpec(shape=(None, 224, 224, 3), dtype=tf.float32, name=None), TensorSpec(shape=(None, 101), dtype=tf.float32, name=None))>"
            ]
          },
          "metadata": {},
          "execution_count": 21
        }
      ]
    },
    {
      "cell_type": "code",
      "source": [
        "# we will use data argumentation like a layer in functional api\n",
        "import tensorflow as tf\n",
        "from tensorflow.keras import layers\n",
        "from tensorflow.keras.layers.experimental import preprocessing\n",
        "\n",
        "#Create argumentation as Sequential api\n",
        "data_argumentation= tf.keras.Sequential([\n",
        "    preprocessing.RandomFlip(\"horizontal\"),\n",
        "    preprocessing.RandomRotation(0.2),\n",
        "    preprocessing.RandomZoom(0.2),\n",
        "    preprocessing.RandomHeight(0.2),\n",
        "    preprocessing.RandomWidth(0.2),\n",
        "   # preprocessing.Rescaling(1/255)# for resnet50V2\n",
        "],name=\"data_argumentation\")"
      ],
      "metadata": {
        "id": "JuXdySshHtZz"
      },
      "execution_count": null,
      "outputs": []
    },
    {
      "cell_type": "code",
      "source": [
        "# creating the checkpoint\n",
        "checkpoint_path=\"food101_checkpoint/model\"\n",
        "\n",
        "checkpoint_callback=tf.keras.callbacks.ModelCheckpoint(filepath=checkpoint_path,\n",
        "                                                       save_best_only=True,\n",
        "                                                       save_weights_only=True,\n",
        "                                                       monitor=\"val_accuracy\"\n",
        "                                                       )"
      ],
      "metadata": {
        "id": "33aoYaTUI6zu"
      },
      "execution_count": null,
      "outputs": []
    },
    {
      "cell_type": "code",
      "source": [
        "input_layer=tf.keras.layers.Input(shape=(224,224,3))\n",
        "base_model=tf.keras.applications.EfficientNetB0(include_top=False)\n",
        "base_model.trainable=False\n",
        "x=data_argumentation(input_layer)\n",
        "x=base_model(x,training=False)\n",
        "x=tf.keras.layers.GlobalAveragePooling2D(name=\"global_average_pooling\")(x)\n",
        "output=tf.keras.layers.Dense(len(train_data.class_names),activation=\"softmax\",name=\"output_layer\")(x)\n",
        "model=tf.keras.Model(input_layer,output)"
      ],
      "metadata": {
        "id": "0M_R6yikKWhu"
      },
      "execution_count": null,
      "outputs": []
    },
    {
      "cell_type": "code",
      "source": [
        "model.compile(loss=tf.keras.losses.CategoricalCrossentropy(),\n",
        "                optimizer=tf.keras.optimizers.Adam(),\n",
        "                metrics=[\"accuracy\"])\n",
        "\n",
        "history=model.fit(train_data,\n",
        "            epochs=5,\n",
        "            steps_per_epoch=len(train_data),\n",
        "            validation_data=test_data,\n",
        "            validation_steps=int(0.15*len(test_data)),\n",
        "             callbacks=[checkpoint_path])"
      ],
      "metadata": {
        "colab": {
          "base_uri": "https://localhost:8080/"
        },
        "id": "vroY7OpSOnD_",
        "outputId": "bd5a48bb-97d3-4bef-cf8c-e4acb43af1d4"
      },
      "execution_count": null,
      "outputs": [
        {
          "output_type": "stream",
          "name": "stdout",
          "text": [
            "Epoch 1/5\n",
            "237/237 [==============================] - 164s 645ms/step - loss: 3.3733 - accuracy: 0.2679 - val_loss: 2.6044 - val_accuracy: 0.4044\n",
            "Epoch 2/5\n",
            "237/237 [==============================] - 106s 444ms/step - loss: 2.2024 - accuracy: 0.5043 - val_loss: 2.0794 - val_accuracy: 0.4984\n",
            "Epoch 3/5\n",
            "237/237 [==============================] - 94s 394ms/step - loss: 1.8342 - accuracy: 0.5607 - val_loss: 1.8972 - val_accuracy: 0.5196\n",
            "Epoch 4/5\n",
            "237/237 [==============================] - 82s 343ms/step - loss: 1.6000 - accuracy: 0.6115 - val_loss: 1.8384 - val_accuracy: 0.5265\n",
            "Epoch 5/5\n",
            "237/237 [==============================] - 73s 305ms/step - loss: 1.4543 - accuracy: 0.6416 - val_loss: 1.7923 - val_accuracy: 0.5363\n"
          ]
        }
      ]
    },
    {
      "cell_type": "code",
      "source": [
        "model.evaluate(test_data)"
      ],
      "metadata": {
        "colab": {
          "base_uri": "https://localhost:8080/"
        },
        "id": "QJX9YeEdRWP4",
        "outputId": "17eaa82a-5721-4b58-d7cf-16be55084c2d"
      },
      "execution_count": null,
      "outputs": [
        {
          "output_type": "stream",
          "name": "stdout",
          "text": [
            "790/790 [==============================] - 58s 74ms/step - loss: 1.5720 - accuracy: 0.5874\n"
          ]
        },
        {
          "output_type": "execute_result",
          "data": {
            "text/plain": [
              "[1.5719547271728516, 0.5874059200286865]"
            ]
          },
          "metadata": {},
          "execution_count": 26
        }
      ]
    },
    {
      "cell_type": "code",
      "source": [
        "import matplotlib.pyplot as plt\n",
        "def plot_loss_curve(history):\n",
        "  loss=history.history[\"loss\"]\n",
        "  val_loss=history.history[\"val_loss\"]\n",
        "  accu=history.history[\"accuracy\"]\n",
        "  val_accu=history.history[\"val_accuracy\"]\n",
        "  epochs=range(len(loss))\n",
        "\n",
        "  plt.plot(epochs,loss,label=\"training_loss\")\n",
        "  plt.plot(epochs,val_loss,label=\"validation_loss\")\n",
        "  plt.xlabel(\"epochs\")\n",
        "  plt.title(\"Loss\")\n",
        "  plt.legend()\n",
        "\n",
        "  plt.figure()\n",
        "  plt.plot(epochs,accu,label=\"training_accuracy\")\n",
        "  plt.plot(epochs,val_accu,label=\"validation_accuracy\")\n",
        "  plt.xlabel(\"epochs\")\n",
        "  plt.title(\"accuracy\")\n",
        "  plt.legend()"
      ],
      "metadata": {
        "id": "h5rjlM0DPJ6L"
      },
      "execution_count": null,
      "outputs": []
    },
    {
      "cell_type": "code",
      "source": [
        "plot_loss_curve(history)"
      ],
      "metadata": {
        "colab": {
          "base_uri": "https://localhost:8080/",
          "height": 927
        },
        "id": "S8i6CWWgRUl6",
        "outputId": "7a6757a0-373f-4355-949c-c6a612225a6c"
      },
      "execution_count": null,
      "outputs": [
        {
          "output_type": "display_data",
          "data": {
            "text/plain": [
              "<Figure size 640x480 with 1 Axes>"
            ],
            "image/png": "[encoded data removed]"
          },
          "metadata": {}
        },
        {
          "output_type": "display_data",
          "data": {
            "text/plain": [
              "<Figure size 640x480 with 1 Axes>"
            ],
            "image/png": "[encoded data removed]"
          },
          "metadata": {}
        }
      ]
    },
    {
      "cell_type": "code",
      "source": [],
      "metadata": {
        "id": "4hv9bvA1S5n6"
      },
      "execution_count": null,
      "outputs": []
    },
    {
      "cell_type": "code",
      "source": [
        "# unfreezing the layers\n",
        "base_model.trainable=True\n",
        "\n",
        "for layers in base_model.layers[:-5]:\n",
        "  layers.trainable=False\n"
      ],
      "metadata": {
        "id": "d0ZPG55jSNya"
      },
      "execution_count": null,
      "outputs": []
    },
    {
      "cell_type": "code",
      "source": [
        "for i ,layers in enumerate(model.layers):\n",
        "  print(i,layers.name,layers.trainable)"
      ],
      "metadata": {
        "colab": {
          "base_uri": "https://localhost:8080/"
        },
        "id": "rjyJpd8OTBgh",
        "outputId": "b0964898-6947-4c15-d7bd-db2e30208c03"
      },
      "execution_count": null,
      "outputs": [
        {
          "output_type": "stream",
          "name": "stdout",
          "text": [
            "0 input_11 True\n",
            "1 data_argumentation True\n",
            "2 efficientnetb0 True\n",
            "3 global_average_pooling True\n",
            "4 output_layer True\n"
          ]
        }
      ]
    },
    {
      "cell_type": "code",
      "source": [
        "for i ,layers in enumerate(model.layers[2].layers):\n",
        "  print(i,layers.name,layers.trainable)"
      ],
      "metadata": {
        "colab": {
          "base_uri": "https://localhost:8080/"
        },
        "id": "ItuUItu_TQaH",
        "outputId": "97ad12cc-3f91-47a6-8c60-014f825b238c"
      },
      "execution_count": null,
      "outputs": [
        {
          "output_type": "stream",
          "name": "stdout",
          "text": [
            "0 input_12 False\n",
            "1 rescaling_10 False\n",
            "2 normalization_5 False\n",
            "3 rescaling_11 False\n",
            "4 stem_conv_pad False\n",
            "5 stem_conv False\n",
            "6 stem_bn False\n",
            "7 stem_activation False\n",
            "8 block1a_dwconv False\n",
            "9 block1a_bn False\n",
            "10 block1a_activation False\n",
            "11 block1a_se_squeeze False\n",
            "12 block1a_se_reshape False\n",
            "13 block1a_se_reduce False\n",
            "14 block1a_se_expand False\n",
            "15 block1a_se_excite False\n",
            "16 block1a_project_conv False\n",
            "17 block1a_project_bn False\n",
            "18 block2a_expand_conv False\n",
            "19 block2a_expand_bn False\n",
            "20 block2a_expand_activation False\n",
            "21 block2a_dwconv_pad False\n",
            "22 block2a_dwconv False\n",
            "23 block2a_bn False\n",
            "24 block2a_activation False\n",
            "25 block2a_se_squeeze False\n",
            "26 block2a_se_reshape False\n",
            "27 block2a_se_reduce False\n",
            "28 block2a_se_expand False\n",
            "29 block2a_se_excite False\n",
            "30 block2a_project_conv False\n",
            "31 block2a_project_bn False\n",
            "32 block2b_expand_conv False\n",
            "33 block2b_expand_bn False\n",
            "34 block2b_expand_activation False\n",
            "35 block2b_dwconv False\n",
            "36 block2b_bn False\n",
            "37 block2b_activation False\n",
            "38 block2b_se_squeeze False\n",
            "39 block2b_se_reshape False\n",
            "40 block2b_se_reduce False\n",
            "41 block2b_se_expand False\n",
            "42 block2b_se_excite False\n",
            "43 block2b_project_conv False\n",
            "44 block2b_project_bn False\n",
            "45 block2b_drop False\n",
            "46 block2b_add False\n",
            "47 block3a_expand_conv False\n",
            "48 block3a_expand_bn False\n",
            "49 block3a_expand_activation False\n",
            "50 block3a_dwconv_pad False\n",
            "51 block3a_dwconv False\n",
            "52 block3a_bn False\n",
            "53 block3a_activation False\n",
            "54 block3a_se_squeeze False\n",
            "55 block3a_se_reshape False\n",
            "56 block3a_se_reduce False\n",
            "57 block3a_se_expand False\n",
            "58 block3a_se_excite False\n",
            "59 block3a_project_conv False\n",
            "60 block3a_project_bn False\n",
            "61 block3b_expand_conv False\n",
            "62 block3b_expand_bn False\n",
            "63 block3b_expand_activation False\n",
            "64 block3b_dwconv False\n",
            "65 block3b_bn False\n",
            "66 block3b_activation False\n",
            "67 block3b_se_squeeze False\n",
            "68 block3b_se_reshape False\n",
            "69 block3b_se_reduce False\n",
            "70 block3b_se_expand False\n",
            "71 block3b_se_excite False\n",
            "72 block3b_project_conv False\n",
            "73 block3b_project_bn False\n",
            "74 block3b_drop False\n",
            "75 block3b_add False\n",
            "76 block4a_expand_conv False\n",
            "77 block4a_expand_bn False\n",
            "78 block4a_expand_activation False\n",
            "79 block4a_dwconv_pad False\n",
            "80 block4a_dwconv False\n",
            "81 block4a_bn False\n",
            "82 block4a_activation False\n",
            "83 block4a_se_squeeze False\n",
            "84 block4a_se_reshape False\n",
            "85 block4a_se_reduce False\n",
            "86 block4a_se_expand False\n",
            "87 block4a_se_excite False\n",
            "88 block4a_project_conv False\n",
            "89 block4a_project_bn False\n",
            "90 block4b_expand_conv False\n",
            "91 block4b_expand_bn False\n",
            "92 block4b_expand_activation False\n",
            "93 block4b_dwconv False\n",
            "94 block4b_bn False\n",
            "95 block4b_activation False\n",
            "96 block4b_se_squeeze False\n",
            "97 block4b_se_reshape False\n",
            "98 block4b_se_reduce False\n",
            "99 block4b_se_expand False\n",
            "100 block4b_se_excite False\n",
            "101 block4b_project_conv False\n",
            "102 block4b_project_bn False\n",
            "103 block4b_drop False\n",
            "104 block4b_add False\n",
            "105 block4c_expand_conv False\n",
            "106 block4c_expand_bn False\n",
            "107 block4c_expand_activation False\n",
            "108 block4c_dwconv False\n",
            "109 block4c_bn False\n",
            "110 block4c_activation False\n",
            "111 block4c_se_squeeze False\n",
            "112 block4c_se_reshape False\n",
            "113 block4c_se_reduce False\n",
            "114 block4c_se_expand False\n",
            "115 block4c_se_excite False\n",
            "116 block4c_project_conv False\n",
            "117 block4c_project_bn False\n",
            "118 block4c_drop False\n",
            "119 block4c_add False\n",
            "120 block5a_expand_conv False\n",
            "121 block5a_expand_bn False\n",
            "122 block5a_expand_activation False\n",
            "123 block5a_dwconv False\n",
            "124 block5a_bn False\n",
            "125 block5a_activation False\n",
            "126 block5a_se_squeeze False\n",
            "127 block5a_se_reshape False\n",
            "128 block5a_se_reduce False\n",
            "129 block5a_se_expand False\n",
            "130 block5a_se_excite False\n",
            "131 block5a_project_conv False\n",
            "132 block5a_project_bn False\n",
            "133 block5b_expand_conv False\n",
            "134 block5b_expand_bn False\n",
            "135 block5b_expand_activation False\n",
            "136 block5b_dwconv False\n",
            "137 block5b_bn False\n",
            "138 block5b_activation False\n",
            "139 block5b_se_squeeze False\n",
            "140 block5b_se_reshape False\n",
            "141 block5b_se_reduce False\n",
            "142 block5b_se_expand False\n",
            "143 block5b_se_excite False\n",
            "144 block5b_project_conv False\n",
            "145 block5b_project_bn False\n",
            "146 block5b_drop False\n",
            "147 block5b_add False\n",
            "148 block5c_expand_conv False\n",
            "149 block5c_expand_bn False\n",
            "150 block5c_expand_activation False\n",
            "151 block5c_dwconv False\n",
            "152 block5c_bn False\n",
            "153 block5c_activation False\n",
            "154 block5c_se_squeeze False\n",
            "155 block5c_se_reshape False\n",
            "156 block5c_se_reduce False\n",
            "157 block5c_se_expand False\n",
            "158 block5c_se_excite False\n",
            "159 block5c_project_conv False\n",
            "160 block5c_project_bn False\n",
            "161 block5c_drop False\n",
            "162 block5c_add False\n",
            "163 block6a_expand_conv False\n",
            "164 block6a_expand_bn False\n",
            "165 block6a_expand_activation False\n",
            "166 block6a_dwconv_pad False\n",
            "167 block6a_dwconv False\n",
            "168 block6a_bn False\n",
            "169 block6a_activation False\n",
            "170 block6a_se_squeeze False\n",
            "171 block6a_se_reshape False\n",
            "172 block6a_se_reduce False\n",
            "173 block6a_se_expand False\n",
            "174 block6a_se_excite False\n",
            "175 block6a_project_conv False\n",
            "176 block6a_project_bn False\n",
            "177 block6b_expand_conv False\n",
            "178 block6b_expand_bn False\n",
            "179 block6b_expand_activation False\n",
            "180 block6b_dwconv False\n",
            "181 block6b_bn False\n",
            "182 block6b_activation False\n",
            "183 block6b_se_squeeze False\n",
            "184 block6b_se_reshape False\n",
            "185 block6b_se_reduce False\n",
            "186 block6b_se_expand False\n",
            "187 block6b_se_excite False\n",
            "188 block6b_project_conv False\n",
            "189 block6b_project_bn False\n",
            "190 block6b_drop False\n",
            "191 block6b_add False\n",
            "192 block6c_expand_conv False\n",
            "193 block6c_expand_bn False\n",
            "194 block6c_expand_activation False\n",
            "195 block6c_dwconv False\n",
            "196 block6c_bn False\n",
            "197 block6c_activation False\n",
            "198 block6c_se_squeeze False\n",
            "199 block6c_se_reshape False\n",
            "200 block6c_se_reduce False\n",
            "201 block6c_se_expand False\n",
            "202 block6c_se_excite False\n",
            "203 block6c_project_conv False\n",
            "204 block6c_project_bn False\n",
            "205 block6c_drop False\n",
            "206 block6c_add False\n",
            "207 block6d_expand_conv False\n",
            "208 block6d_expand_bn False\n",
            "209 block6d_expand_activation False\n",
            "210 block6d_dwconv False\n",
            "211 block6d_bn False\n",
            "212 block6d_activation False\n",
            "213 block6d_se_squeeze False\n",
            "214 block6d_se_reshape False\n",
            "215 block6d_se_reduce False\n",
            "216 block6d_se_expand False\n",
            "217 block6d_se_excite False\n",
            "218 block6d_project_conv False\n",
            "219 block6d_project_bn False\n",
            "220 block6d_drop False\n",
            "221 block6d_add False\n",
            "222 block7a_expand_conv False\n",
            "223 block7a_expand_bn False\n",
            "224 block7a_expand_activation False\n",
            "225 block7a_dwconv False\n",
            "226 block7a_bn False\n",
            "227 block7a_activation False\n",
            "228 block7a_se_squeeze False\n",
            "229 block7a_se_reshape False\n",
            "230 block7a_se_reduce False\n",
            "231 block7a_se_expand False\n",
            "232 block7a_se_excite False\n",
            "233 block7a_project_conv True\n",
            "234 block7a_project_bn True\n",
            "235 top_conv True\n",
            "236 top_bn True\n",
            "237 top_activation True\n"
          ]
        }
      ]
    },
    {
      "cell_type": "code",
      "source": [
        "model.load_weights(checkpoint_path)"
      ],
      "metadata": {
        "colab": {
          "base_uri": "https://localhost:8080/"
        },
        "id": "tJartDz3UD4y",
        "outputId": "10660732-dbd5-4722-c2ef-7c22b417c9c7"
      },
      "execution_count": null,
      "outputs": [
        {
          "output_type": "execute_result",
          "data": {
            "text/plain": [
              "<tensorflow.python.checkpoint.checkpoint.CheckpointLoadStatus at 0x7fd5a707f210>"
            ]
          },
          "metadata": {},
          "execution_count": 34
        }
      ]
    },
    {
      "cell_type": "code",
      "source": [
        "model.evaluate(test_data)"
      ],
      "metadata": {
        "colab": {
          "base_uri": "https://localhost:8080/"
        },
        "id": "6w9qeE3aUNCe",
        "outputId": "96ffd7d6-c79a-456a-b19a-3ce08d417ada"
      },
      "execution_count": null,
      "outputs": [
        {
          "output_type": "stream",
          "name": "stdout",
          "text": [
            "790/790 [==============================] - 60s 76ms/step - loss: 1.5720 - accuracy: 0.5874\n"
          ]
        },
        {
          "output_type": "execute_result",
          "data": {
            "text/plain": [
              "[1.5719547271728516, 0.5874059200286865]"
            ]
          },
          "metadata": {},
          "execution_count": 35
        }
      ]
    },
    {
      "cell_type": "code",
      "source": [
        "\n",
        "# for fine tuning we need to add extra 5 epochs\n",
        "#already we fit the weights to the model_2 so we want to start training after the previous 5 epoch(already readed the data five times now we going to read from the 5th epoch not from starting)\n",
        "model.compile(loss=tf.keras.losses.CategoricalCrossentropy(),\n",
        "                optimizer=tf.keras.optimizers.Adam(),\n",
        "                metrics=[\"accuracy\"])\n",
        "\n",
        "history_1=model.fit(train_data,\n",
        "            epochs=10,\n",
        "            steps_per_epoch=len(train_data),\n",
        "            validation_data=test_data,\n",
        "            validation_steps=int(0.15*len(test_data)),\n",
        "            initial_epoch=history.epoch[-1],#start training from previous epoch\n",
        "            )"
      ],
      "metadata": {
        "colab": {
          "base_uri": "https://localhost:8080/"
        },
        "id": "HM1rhpOMU0Dt",
        "outputId": "9af700ab-3f87-493f-9700-2fb3257cc311"
      },
      "execution_count": null,
      "outputs": [
        {
          "output_type": "stream",
          "name": "stdout",
          "text": [
            "Epoch 5/10\n",
            "237/237 [==============================] - 83s 307ms/step - loss: 1.4802 - accuracy: 0.6024 - val_loss: 1.6472 - val_accuracy: 0.5646\n",
            "Epoch 6/10\n",
            "237/237 [==============================] - 66s 277ms/step - loss: 1.0766 - accuracy: 0.7036 - val_loss: 1.8346 - val_accuracy: 0.5334\n",
            "Epoch 7/10\n",
            "237/237 [==============================] - 61s 255ms/step - loss: 0.8312 - accuracy: 0.7633 - val_loss: 1.8029 - val_accuracy: 0.5392\n",
            "Epoch 8/10\n",
            "237/237 [==============================] - 61s 254ms/step - loss: 0.6457 - accuracy: 0.8157 - val_loss: 2.1826 - val_accuracy: 0.4852\n",
            "Epoch 9/10\n",
            "237/237 [==============================] - 61s 256ms/step - loss: 0.5181 - accuracy: 0.8417 - val_loss: 1.8247 - val_accuracy: 0.5516\n",
            "Epoch 10/10\n",
            "237/237 [==============================] - 56s 237ms/step - loss: 0.4285 - accuracy: 0.8772 - val_loss: 1.9588 - val_accuracy: 0.5522\n"
          ]
        }
      ]
    },
    {
      "cell_type": "code",
      "source": [
        "model.evaluate(test_data)"
      ],
      "metadata": {
        "colab": {
          "base_uri": "https://localhost:8080/"
        },
        "id": "D68Wt83GY9Q5",
        "outputId": "62cab161-5746-41c7-b449-dcecbc9868e0"
      },
      "execution_count": null,
      "outputs": [
        {
          "output_type": "stream",
          "name": "stdout",
          "text": [
            "790/790 [==============================] - 59s 75ms/step - loss: 1.7978 - accuracy: 0.5816\n"
          ]
        },
        {
          "output_type": "execute_result",
          "data": {
            "text/plain": [
              "[1.7977968454360962, 0.5815841555595398]"
            ]
          },
          "metadata": {},
          "execution_count": 42
        }
      ]
    },
    {
      "cell_type": "code",
      "source": [
        "def compare_history(original_history,finetuning_history,initial_epochs):\n",
        "  acc=original_history.history[\"accuracy\"]\n",
        "  val_acc=original_history.history[\"val_accuracy\"]\n",
        "  loss=original_history.history[\"loss\"]\n",
        "  val_loss=original_history.history[\"val_loss\"]\n",
        "\n",
        "  total_acc= acc+finetuning_history.history[\"accuracy\"]\n",
        "  total_val_acc= val_acc+finetuning_history.history[\"val_accuracy\"]\n",
        "  total_loss= loss+finetuning_history.history[\"loss\"]\n",
        "  total_val_loss= val_loss+finetuning_history.history[\"val_loss\"]\n",
        "\n",
        "\n",
        "  plt.figure(figsize=(8,8))\n",
        "  plt.subplot(2,1,1)\n",
        "  plt.plot(total_acc,label=\"Training Accuracy\")\n",
        "  plt.plot(total_val_acc,label=\" val_Accuracy\")\n",
        "  plt.plot([initial_epochs-1,initial_epochs-1],plt.ylim(),label=\"Start Fine Tuning\")\n",
        "  plt.legend()\n",
        "  plt.title(\"training and validation Accuracy\")\n",
        "\n",
        "  plt.figure(figsize=(8,8))\n",
        "  plt.subplot(2,1,2)\n",
        "  plt.plot(total_loss,label=\"Training Loss\")\n",
        "  plt.plot(total_val_loss,label=\" val_Loss\")\n",
        "  plt.plot([initial_epochs-1,initial_epochs-1],plt.ylim(),label=\"Start Fine Tuning\")\n",
        "  plt.legend()\n",
        "  plt.title(\"Training and Validation loss\")\n"
      ],
      "metadata": {
        "id": "L0W1tXNYXnkx"
      },
      "execution_count": null,
      "outputs": []
    },
    {
      "cell_type": "code",
      "source": [
        "compare_history(history,history_1,5)"
      ],
      "metadata": {
        "colab": {
          "base_uri": "https://localhost:8080/",
          "height": 667
        },
        "id": "8bdJlrXFYOAc",
        "outputId": "659e60b2-853f-40f5-8777-23c99708bc87"
      },
      "execution_count": null,
      "outputs": [
        {
          "output_type": "display_data",
          "data": {
            "text/plain": [
              "<Figure size 800x800 with 1 Axes>"
            ],
            "image/png": "[encoded data removed]"
          },
          "metadata": {}
        },
        {
          "output_type": "display_data",
          "data": {
            "text/plain": [
              "<Figure size 800x800 with 1 Axes>"
            ],
            "image/png": "[encoded data removed]"
          },
          "metadata": {}
        }
      ]
    },
    {
      "cell_type": "code",
      "source": [
        "from google.colab import drive\n",
        "drive.mount('/content/drive')"
      ],
      "metadata": {
        "id": "rXGlgkPGf7c8"
      },
      "execution_count": null,
      "outputs": []
    }
  ]
}